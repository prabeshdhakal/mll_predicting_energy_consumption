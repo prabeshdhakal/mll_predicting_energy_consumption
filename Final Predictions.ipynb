{
 "cells": [
  {
   "cell_type": "code",
   "execution_count": 1,
   "metadata": {},
   "outputs": [],
   "source": [
    "import numpy as np\n",
    "import pandas as pd\n",
    "import gc\n",
    "\n",
    "from sklearn.metrics import mean_absolute_error as MAE\n",
    "from sklearn.metrics import mean_squared_error as MSE\n",
    "from sklearn.metrics import mean_squared_log_error as MSLE\n",
    "\n",
    "from catboost import CatBoostRegressor, Pool"
   ]
  },
  {
   "cell_type": "code",
   "execution_count": 2,
   "metadata": {},
   "outputs": [],
   "source": [
    "def show_me_errors(y_true, y_preds):\n",
    "    mae = MAE(y_true, y_preds)\n",
    "    rmse = np.sqrt(MSE(y_true, y_preds))\n",
    "    rmsle = np.sqrt(MSLE(y_true, y_preds))\n",
    "    \n",
    "    print(\"RMSE:  {}\".format(np.around(rmse, 4)))\n",
    "    print(\"RMSLE: {}\".format(np.around(rmsle, 4)))\n",
    "    print(\"MAE:   {}\".format(np.around(mae, 4)))"
   ]
  },
  {
   "cell_type": "code",
   "execution_count": 3,
   "metadata": {},
   "outputs": [],
   "source": [
    "def create_test_pool(X, cat_features):\n",
    "    \n",
    "    \"\"\"Returns Catboost Pool with categorical encoding.\"\"\"\n",
    "    #X_to_encode = X_train[categorical_features].replace(np.nan, 'NA', regex=True).astype('str')\n",
    "    X_to_encode = X[cat_features].astype('str')\n",
    "\n",
    "    X_no_encoding_reqd = X[list(set(X) - set(cat_features))]\n",
    "\n",
    "    X_encoded = pd.merge(X_no_encoding_reqd, X_to_encode, left_index=True, right_index=True)\n",
    "\n",
    "    return Pool(X_encoded, cat_features=cat_features)\n",
    "    "
   ]
  },
  {
   "cell_type": "markdown",
   "metadata": {},
   "source": [
    "# Site Predictions"
   ]
  },
  {
   "cell_type": "code",
   "execution_count": null,
   "metadata": {},
   "outputs": [],
   "source": [
    "cat_features = {'building_id', 'meter', 'primary_use',\n",
    "                'air_temperature_was_missing',\n",
    "                'cloud_coverage_was_missing', 'dew_temperature_was_missing',\n",
    "                'precip_depth_1_hr_was_missing', 'sea_level_pressure_was_missing',\n",
    "                'wind_direction_was_missing', 'wind_speed_was_missing',\n",
    "                'day_of_month', 'day_of_week'}"
   ]
  },
  {
   "cell_type": "code",
   "execution_count": 4,
   "metadata": {},
   "outputs": [
    {
     "data": {
      "text/html": [
       "<div>\n",
       "<style scoped>\n",
       "    .dataframe tbody tr th:only-of-type {\n",
       "        vertical-align: middle;\n",
       "    }\n",
       "\n",
       "    .dataframe tbody tr th {\n",
       "        vertical-align: top;\n",
       "    }\n",
       "\n",
       "    .dataframe thead th {\n",
       "        text-align: right;\n",
       "    }\n",
       "</style>\n",
       "<table border=\"1\" class=\"dataframe\">\n",
       "  <thead>\n",
       "    <tr style=\"text-align: right;\">\n",
       "      <th></th>\n",
       "      <th>RowID</th>\n",
       "      <th>y_true</th>\n",
       "      <th>y_pred_sites</th>\n",
       "    </tr>\n",
       "  </thead>\n",
       "  <tbody>\n",
       "  </tbody>\n",
       "</table>\n",
       "</div>"
      ],
      "text/plain": [
       "Empty DataFrame\n",
       "Columns: [RowID, y_true, y_pred_sites]\n",
       "Index: []"
      ]
     },
     "execution_count": 4,
     "metadata": {},
     "output_type": "execute_result"
    }
   ],
   "source": [
    "y = pd.DataFrame(columns=[\"RowID\", \"y_true\", \"y_pred_sites\"])\n",
    "y"
   ]
  },
  {
   "cell_type": "code",
   "execution_count": 5,
   "metadata": {},
   "outputs": [
    {
     "name": "stdout",
     "output_type": "stream",
     "text": [
      "Predicting for site 0\n",
      "Predicting for site 1\n"
     ]
    },
    {
     "name": "stderr",
     "output_type": "stream",
     "text": [
      "c:\\users\\hydrogen\\appdata\\local\\programs\\python\\python37\\lib\\site-packages\\IPython\\core\\interactiveshell.py:3063: DtypeWarning: Columns (12,13,14,15,16,17,18) have mixed types.Specify dtype option on import or set low_memory=False.\n",
      "  interactivity=interactivity, compiler=compiler, result=result)\n"
     ]
    },
    {
     "name": "stdout",
     "output_type": "stream",
     "text": [
      "Predicting for site 2\n",
      "Predicting for site 3\n",
      "Predicting for site 4\n",
      "Predicting for site 5\n",
      "Predicting for site 6\n",
      "Predicting for site 7\n",
      "Predicting for site 8\n",
      "Predicting for site 9\n",
      "Predicting for site 10\n",
      "Predicting for site 11\n",
      "Predicting for site 12\n",
      "Predicting for site 13\n",
      "Predicting for site 14\n",
      "Predicting for site 15\n"
     ]
    }
   ],
   "source": [
    "cat_features_sites = {'building_id', 'meter', 'primary_use',\n",
    "                'air_temperature_was_missing',\n",
    "                'cloud_coverage_was_missing', 'dew_temperature_was_missing',\n",
    "                'precip_depth_1_hr_was_missing', 'sea_level_pressure_was_missing',\n",
    "                'wind_direction_was_missing', 'wind_speed_was_missing',\n",
    "                'day_of_month', 'day_of_week'}\n",
    "\n",
    "for site in range(16):\n",
    "\n",
    "    # 1. Set model and test file names\n",
    "    model_file_name = \"/data/site_id/final_models/model_site_{}\".format(site)\n",
    "    #test_file_name = \"/data/site_id/holdout/holdout_site_id_{}.csv\".format(site)\n",
    "    test_file_name = \"/data/site_id/test/test_site_id_{}.csv\".format(site)\n",
    "\n",
    "    # 2. Read the test file\n",
    "    test = pd.read_csv(test_file_name)\n",
    "    \n",
    "    RowID = test[\"Unnamed: 0\"]\n",
    "    y_test = test.meter_reading\n",
    "    X_test = test.drop(\"meter_reading\", axis=1)\n",
    "    del test\n",
    "    gc.collect()\n",
    "\n",
    "    # 3. Identify features / categorical features\n",
    "    file_cols = set(X_test.columns)\n",
    "    selected_cat_features = cat_features_sites.intersection(file_cols)\n",
    "\n",
    "    # 4. Create CatBoost Pool\n",
    "    X_pool = create_test_pool(X_test, cat_features = selected_cat_features)\n",
    "\n",
    "    # 5. Read the model file\n",
    "    model = CatBoostRegressor()\n",
    "    model.load_model(model_file_name)\n",
    "\n",
    "    # Make Prediction\n",
    "    print(\"Predicting for site {}\".format(site))\n",
    "    raw_preds = model.predict(X_pool)\n",
    "\n",
    "    # expm1 Transform the preds \n",
    "    preds = np.expm1(raw_preds)\n",
    "    \n",
    "    # store y_test and preds in their own rows\n",
    "    df = pd.DataFrame({\"RowID\":RowID,\n",
    "                       \"y_true\":y_test, \n",
    "                       \"y_pred_sites\":preds})\n",
    "    \n",
    "    y = y.append(df)\n",
    "    \n",
    "    del df\n",
    "    gc.collect()"
   ]
  },
  {
   "cell_type": "code",
   "execution_count": 6,
   "metadata": {},
   "outputs": [],
   "source": [
    "y.to_csv(\"pred_results/preds_site_test.csv\", index=False)"
   ]
  },
  {
   "cell_type": "code",
   "execution_count": 7,
   "metadata": {},
   "outputs": [
    {
     "data": {
      "text/plain": [
       "(3972960, 3)"
      ]
     },
     "execution_count": 7,
     "metadata": {},
     "output_type": "execute_result"
    }
   ],
   "source": [
    "y.shape"
   ]
  },
  {
   "cell_type": "markdown",
   "metadata": {},
   "source": [
    "# Meter Predictions "
   ]
  },
  {
   "cell_type": "code",
   "execution_count": 11,
   "metadata": {},
   "outputs": [
    {
     "data": {
      "text/html": [
       "<div>\n",
       "<style scoped>\n",
       "    .dataframe tbody tr th:only-of-type {\n",
       "        vertical-align: middle;\n",
       "    }\n",
       "\n",
       "    .dataframe tbody tr th {\n",
       "        vertical-align: top;\n",
       "    }\n",
       "\n",
       "    .dataframe thead th {\n",
       "        text-align: right;\n",
       "    }\n",
       "</style>\n",
       "<table border=\"1\" class=\"dataframe\">\n",
       "  <thead>\n",
       "    <tr style=\"text-align: right;\">\n",
       "      <th></th>\n",
       "      <th>RowID</th>\n",
       "      <th>y_true</th>\n",
       "      <th>y_pred_meter</th>\n",
       "    </tr>\n",
       "  </thead>\n",
       "  <tbody>\n",
       "  </tbody>\n",
       "</table>\n",
       "</div>"
      ],
      "text/plain": [
       "Empty DataFrame\n",
       "Columns: [RowID, y_true, y_pred_meter]\n",
       "Index: []"
      ]
     },
     "execution_count": 11,
     "metadata": {},
     "output_type": "execute_result"
    }
   ],
   "source": [
    "y_meter = pd.DataFrame(columns=[\"RowID\", \"y_true\", \"y_pred_meter\"])\n",
    "y_meter"
   ]
  },
  {
   "cell_type": "code",
   "execution_count": 6,
   "metadata": {},
   "outputs": [],
   "source": [
    "cat_features_meter = {'building_id', \"site_id\", 'primary_use',\n",
    "                'air_temperature_was_missing',\n",
    "                'cloud_coverage_was_missing', 'dew_temperature_was_missing',\n",
    "                'precip_depth_1_hr_was_missing', 'sea_level_pressure_was_missing',\n",
    "                'wind_direction_was_missing', 'wind_speed_was_missing',\n",
    "                'day_of_month', 'day_of_week'}"
   ]
  },
  {
   "cell_type": "code",
   "execution_count": 5,
   "metadata": {},
   "outputs": [],
   "source": [
    "cat_features_meter = {'building_id', 'primary_use',\n",
    "                'air_temperature_was_missing',\n",
    "                'cloud_coverage_was_missing', 'dew_temperature_was_missing',\n",
    "                'precip_depth_1_hr_was_missing', 'sea_level_pressure_was_missing',\n",
    "                'wind_direction_was_missing', 'wind_speed_was_missing',\n",
    "                'day_of_month', 'day_of_week'}"
   ]
  },
  {
   "cell_type": "code",
   "execution_count": 12,
   "metadata": {},
   "outputs": [
    {
     "name": "stdout",
     "output_type": "stream",
     "text": [
      "Predicting meter 0\n",
      "Predicting meter 1\n",
      "Predicting meter 2\n",
      "Predicting meter 3\n"
     ]
    }
   ],
   "source": [
    "\n",
    "for meter in [0, 1, 2, 3]:\n",
    "\n",
    "    # 1. Set model and test file names\n",
    "    model_file_name = \"/data/meter_type/final_models/model_meter_{}\".format(meter)\n",
    "    test_file_name = \"/data/meter_type/holdout/holdout_meter_{}.csv\".format(meter)\n",
    "\n",
    "    # 2. Read the test file\n",
    "    test = pd.read_csv(test_file_name)\n",
    "    \n",
    "    RowID = test[\"Unnamed: 0\"]\n",
    "    y_test = test.meter_reading\n",
    "    X_test = test.drop(\"meter_reading\", axis=1)\n",
    "    del test\n",
    "    gc.collect()\n",
    "\n",
    "    # 3. Identify features / categorical features\n",
    "    file_cols = set(X_test.columns)\n",
    "    selected_cat_features = cat_features_meter.intersection(file_cols)\n",
    "\n",
    "    # 4. Create CatBoost Pool\n",
    "    X_pool = create_test_pool(X_test, cat_features = selected_cat_features)\n",
    "\n",
    "    # 5. Read the model file\n",
    "    model = CatBoostRegressor()\n",
    "    model.load_model(model_file_name)\n",
    "\n",
    "    # Make Prediction\n",
    "    print(\"Predicting meter {}\".format(meter))\n",
    "    raw_preds = model.predict(X_pool)\n",
    "\n",
    "    # expm1 Transform the preds \n",
    "    preds = np.expm1(raw_preds)\n",
    "    \n",
    "    # store y_test and preds in their own rows\n",
    "    df = pd.DataFrame({\"RowID\":RowID,\n",
    "                       \"y_true\":y_test,\n",
    "                       \"y_pred_meter\":preds})\n",
    "    \n",
    "    y_meter = y_meter.append(df)\n",
    "    \n",
    "    del df\n",
    "    gc.collect()    "
   ]
  },
  {
   "cell_type": "code",
   "execution_count": null,
   "metadata": {},
   "outputs": [],
   "source": [
    "y_meter.head()"
   ]
  },
  {
   "cell_type": "code",
   "execution_count": 14,
   "metadata": {},
   "outputs": [
    {
     "data": {
      "text/plain": [
       "(3972960, 3)"
      ]
     },
     "execution_count": 14,
     "metadata": {},
     "output_type": "execute_result"
    }
   ],
   "source": [
    "y_meter.shape"
   ]
  },
  {
   "cell_type": "code",
   "execution_count": 13,
   "metadata": {},
   "outputs": [],
   "source": [
    "y_meter.to_csv(\"pred_results/preds_meter_test.csv\", index=False)"
   ]
  },
  {
   "cell_type": "code",
   "execution_count": null,
   "metadata": {},
   "outputs": [],
   "source": []
  },
  {
   "cell_type": "code",
   "execution_count": null,
   "metadata": {},
   "outputs": [],
   "source": []
  },
  {
   "cell_type": "markdown",
   "metadata": {},
   "source": [
    "# Baseline Prediction "
   ]
  },
  {
   "cell_type": "code",
   "execution_count": 13,
   "metadata": {},
   "outputs": [
    {
     "name": "stdout",
     "output_type": "stream",
     "text": [
      "468.2848\n"
     ]
    }
   ],
   "source": [
    "train_df = pd.read_csv(\"/data/preprocessed/train.csv\")\n",
    "    \n",
    "y_train = train_df[\"meter_reading\"]\n",
    "baseline_pred = np.around(np.mean(y_train), 4)\n",
    "\n",
    "print(baseline_pred)"
   ]
  },
  {
   "cell_type": "code",
   "execution_count": 14,
   "metadata": {},
   "outputs": [
    {
     "data": {
      "text/plain": [
       "5334"
      ]
     },
     "execution_count": 14,
     "metadata": {},
     "output_type": "execute_result"
    }
   ],
   "source": [
    "del train_df, y_train\n",
    "gc.collect()"
   ]
  },
  {
   "cell_type": "markdown",
   "metadata": {},
   "source": [
    "# Final Combination: Averaging "
   ]
  },
  {
   "cell_type": "code",
   "execution_count": 10,
   "metadata": {},
   "outputs": [],
   "source": [
    "pred_site = pd.read_csv(\"pred_results/preds_site.csv\")\n",
    "pred_meter = pd.read_csv(\"pred_results/preds_meter.csv\")\n",
    "\n",
    "y_preds = pd.merge(pred_site, pred_meter, on=[\"RowID\", \"y_true\"])\n",
    "\n",
    "# Add baseline prediction column\n",
    "y_preds[\"y_pred_baseline\"] = np.full(shape=y_preds.shape[0], fill_value=baseline_pred)\n",
    "\n",
    "# Clip prediction values so that the lower value is 0\n",
    "y_preds[\"y_pred_sites\"] = np.clip(y_preds.y_pred_sites, a_min=0, a_max=np.max(y_preds.y_pred_sites))\n",
    "y_preds[\"y_pred_meter\"] = np.clip(y_preds.y_pred_meter, a_min=0, a_max=np.max(y_preds.y_pred_meter))\n",
    "\n",
    "# add the average model prediction\n",
    "y_pred_average = y_preds[[\"y_pred_sites\", \"y_pred_meter\"]].apply(np.mean, axis=1)\n",
    "y_preds[\"y_pred_average\"] = y_pred_average\n",
    "y_preds.sample(5)"
   ]
  },
  {
   "cell_type": "code",
   "execution_count": 21,
   "metadata": {},
   "outputs": [],
   "source": [
    "# rearrange the columns before saving\n",
    "y_preds = y_preds[['RowID', 'y_true', 'y_pred_baseline', 'y_pred_sites', 'y_pred_meter', 'y_pred_average']].sort_values(by=\"RowID\")\n",
    "\n",
    "y_preds.to_csv(\"pred_results/all_preds.csv\", index=False)"
   ]
  },
  {
   "cell_type": "markdown",
   "metadata": {},
   "source": [
    "# Error Metrics "
   ]
  },
  {
   "cell_type": "markdown",
   "metadata": {},
   "source": [
    "## Train, Validation, Test Set Errors"
   ]
  },
  {
   "cell_type": "markdown",
   "metadata": {},
   "source": [
    "### Train"
   ]
  },
  {
   "cell_type": "code",
   "execution_count": 16,
   "metadata": {},
   "outputs": [
    {
     "data": {
      "text/html": [
       "<div>\n",
       "<style scoped>\n",
       "    .dataframe tbody tr th:only-of-type {\n",
       "        vertical-align: middle;\n",
       "    }\n",
       "\n",
       "    .dataframe tbody tr th {\n",
       "        vertical-align: top;\n",
       "    }\n",
       "\n",
       "    .dataframe thead th {\n",
       "        text-align: right;\n",
       "    }\n",
       "</style>\n",
       "<table border=\"1\" class=\"dataframe\">\n",
       "  <thead>\n",
       "    <tr style=\"text-align: right;\">\n",
       "      <th></th>\n",
       "      <th>RowID</th>\n",
       "      <th>y_true</th>\n",
       "      <th>y_pred_meter</th>\n",
       "      <th>y_pred_sites</th>\n",
       "    </tr>\n",
       "  </thead>\n",
       "  <tbody>\n",
       "    <tr>\n",
       "      <th>0</th>\n",
       "      <td>0</td>\n",
       "      <td>1579.2200</td>\n",
       "      <td>496.958014</td>\n",
       "      <td>549.675422</td>\n",
       "    </tr>\n",
       "    <tr>\n",
       "      <th>1</th>\n",
       "      <td>1</td>\n",
       "      <td>43.6900</td>\n",
       "      <td>24.880304</td>\n",
       "      <td>47.551085</td>\n",
       "    </tr>\n",
       "    <tr>\n",
       "      <th>2</th>\n",
       "      <td>2</td>\n",
       "      <td>8.9927</td>\n",
       "      <td>9.459577</td>\n",
       "      <td>14.323390</td>\n",
       "    </tr>\n",
       "    <tr>\n",
       "      <th>3</th>\n",
       "      <td>3</td>\n",
       "      <td>109.0000</td>\n",
       "      <td>197.550625</td>\n",
       "      <td>55.044439</td>\n",
       "    </tr>\n",
       "    <tr>\n",
       "      <th>4</th>\n",
       "      <td>5</td>\n",
       "      <td>11.6500</td>\n",
       "      <td>10.521703</td>\n",
       "      <td>9.050824</td>\n",
       "    </tr>\n",
       "  </tbody>\n",
       "</table>\n",
       "</div>"
      ],
      "text/plain": [
       "   RowID     y_true  y_pred_meter  y_pred_sites\n",
       "0      0  1579.2200    496.958014    549.675422\n",
       "1      1    43.6900     24.880304     47.551085\n",
       "2      2     8.9927      9.459577     14.323390\n",
       "3      3   109.0000    197.550625     55.044439\n",
       "4      5    11.6500     10.521703      9.050824"
      ]
     },
     "execution_count": 16,
     "metadata": {},
     "output_type": "execute_result"
    }
   ],
   "source": [
    "train_meter = pd.read_csv(\"pred_results/preds_meter_train.csv\")\n",
    "train_site = pd.read_csv(\"pred_results/preds_site_train.csv\")\n",
    "\n",
    "# Merge the two dfs \n",
    "y_preds = pd.merge(train_meter, train_site, on=[\"RowID\", \"y_true\"])\n",
    "\n",
    "# Clip prediction values so that the lower value is 0\n",
    "y_preds[\"y_pred_sites\"] = np.clip(y_preds.y_pred_sites, a_min=0, a_max=np.max(y_preds.y_pred_sites))\n",
    "y_preds[\"y_pred_meter\"] = np.clip(y_preds.y_pred_meter, a_min=0, a_max=np.max(y_preds.y_pred_meter))\n",
    "\n",
    "# add the average model prediction\n",
    "y_pred_average = y_preds[[\"y_pred_sites\", \"y_pred_meter\"]].apply(np.mean, axis=1)\n",
    "y_preds[\"y_pred_average\"] = y_pred_average\n",
    "y_preds.sample(5)"
   ]
  },
  {
   "cell_type": "code",
   "execution_count": 17,
   "metadata": {},
   "outputs": [
    {
     "data": {
      "text/html": [
       "<div>\n",
       "<style scoped>\n",
       "    .dataframe tbody tr th:only-of-type {\n",
       "        vertical-align: middle;\n",
       "    }\n",
       "\n",
       "    .dataframe tbody tr th {\n",
       "        vertical-align: top;\n",
       "    }\n",
       "\n",
       "    .dataframe thead th {\n",
       "        text-align: right;\n",
       "    }\n",
       "</style>\n",
       "<table border=\"1\" class=\"dataframe\">\n",
       "  <thead>\n",
       "    <tr style=\"text-align: right;\">\n",
       "      <th></th>\n",
       "      <th>RowID</th>\n",
       "      <th>y_true</th>\n",
       "      <th>y_pred_meter</th>\n",
       "      <th>y_pred_sites</th>\n",
       "      <th>y_pred_average</th>\n",
       "    </tr>\n",
       "  </thead>\n",
       "  <tbody>\n",
       "    <tr>\n",
       "      <th>11160986</th>\n",
       "      <td>1854</td>\n",
       "      <td>1358.76</td>\n",
       "      <td>226.328993</td>\n",
       "      <td>325.739441</td>\n",
       "      <td>276.034217</td>\n",
       "    </tr>\n",
       "    <tr>\n",
       "      <th>6144942</th>\n",
       "      <td>10420998</td>\n",
       "      <td>5.90</td>\n",
       "      <td>10.849287</td>\n",
       "      <td>10.714578</td>\n",
       "      <td>10.781932</td>\n",
       "    </tr>\n",
       "    <tr>\n",
       "      <th>4796646</th>\n",
       "      <td>8135067</td>\n",
       "      <td>146.48</td>\n",
       "      <td>78.594047</td>\n",
       "      <td>71.484202</td>\n",
       "      <td>75.039124</td>\n",
       "    </tr>\n",
       "    <tr>\n",
       "      <th>872919</th>\n",
       "      <td>1479018</td>\n",
       "      <td>202.00</td>\n",
       "      <td>154.987380</td>\n",
       "      <td>200.278166</td>\n",
       "      <td>177.632773</td>\n",
       "    </tr>\n",
       "    <tr>\n",
       "      <th>11461040</th>\n",
       "      <td>4732532</td>\n",
       "      <td>0.00</td>\n",
       "      <td>3.070102</td>\n",
       "      <td>3.170422</td>\n",
       "      <td>3.120262</td>\n",
       "    </tr>\n",
       "  </tbody>\n",
       "</table>\n",
       "</div>"
      ],
      "text/plain": [
       "             RowID   y_true  y_pred_meter  y_pred_sites  y_pred_average\n",
       "11160986      1854  1358.76    226.328993    325.739441      276.034217\n",
       "6144942   10420998     5.90     10.849287     10.714578       10.781932\n",
       "4796646    8135067   146.48     78.594047     71.484202       75.039124\n",
       "872919     1479018   202.00    154.987380    200.278166      177.632773\n",
       "11461040   4732532     0.00      3.070102      3.170422        3.120262"
      ]
     },
     "execution_count": 17,
     "metadata": {},
     "output_type": "execute_result"
    }
   ],
   "source": [
    "# Clip prediction values so that the lower value is 0\n",
    "y_preds[\"y_pred_sites\"] = np.clip(y_preds.y_pred_sites, a_min=0, a_max=np.max(y_preds.y_pred_sites))\n",
    "y_preds[\"y_pred_meter\"] = np.clip(y_preds.y_pred_meter, a_min=0, a_max=np.max(y_preds.y_pred_meter))\n",
    "\n",
    "# add the average model prediction\n",
    "y_pred_average = y_preds[[\"y_pred_sites\", \"y_pred_meter\"]].apply(np.mean, axis=1)\n",
    "y_preds[\"y_pred_average\"] = y_pred_average\n",
    "y_preds.sample(5)"
   ]
  },
  {
   "cell_type": "code",
   "execution_count": 19,
   "metadata": {},
   "outputs": [
    {
     "name": "stdout",
     "output_type": "stream",
     "text": [
      "RMSE:  4127.8104\n",
      "RMSLE: 1.1378\n",
      "MAE:   316.7129\n"
     ]
    }
   ],
   "source": [
    "show_me_errors(y_preds.y_true, y_preds.y_pred_average)"
   ]
  },
  {
   "cell_type": "markdown",
   "metadata": {},
   "source": [
    "### Validation  "
   ]
  },
  {
   "cell_type": "code",
   "execution_count": 20,
   "metadata": {},
   "outputs": [
    {
     "data": {
      "text/html": [
       "<div>\n",
       "<style scoped>\n",
       "    .dataframe tbody tr th:only-of-type {\n",
       "        vertical-align: middle;\n",
       "    }\n",
       "\n",
       "    .dataframe tbody tr th {\n",
       "        vertical-align: top;\n",
       "    }\n",
       "\n",
       "    .dataframe thead th {\n",
       "        text-align: right;\n",
       "    }\n",
       "</style>\n",
       "<table border=\"1\" class=\"dataframe\">\n",
       "  <thead>\n",
       "    <tr style=\"text-align: right;\">\n",
       "      <th></th>\n",
       "      <th>RowID</th>\n",
       "      <th>y_true</th>\n",
       "      <th>y_pred_meter</th>\n",
       "      <th>y_pred_sites</th>\n",
       "      <th>y_pred_average</th>\n",
       "    </tr>\n",
       "  </thead>\n",
       "  <tbody>\n",
       "    <tr>\n",
       "      <th>167953</th>\n",
       "      <td>284803</td>\n",
       "      <td>9.960</td>\n",
       "      <td>8.766757</td>\n",
       "      <td>7.628923</td>\n",
       "      <td>8.197840</td>\n",
       "    </tr>\n",
       "    <tr>\n",
       "      <th>1123488</th>\n",
       "      <td>1905000</td>\n",
       "      <td>1216.390</td>\n",
       "      <td>569.149101</td>\n",
       "      <td>461.087515</td>\n",
       "      <td>515.118308</td>\n",
       "    </tr>\n",
       "    <tr>\n",
       "      <th>629889</th>\n",
       "      <td>1068402</td>\n",
       "      <td>247.000</td>\n",
       "      <td>179.060372</td>\n",
       "      <td>173.891121</td>\n",
       "      <td>176.475746</td>\n",
       "    </tr>\n",
       "    <tr>\n",
       "      <th>44429</th>\n",
       "      <td>75318</td>\n",
       "      <td>13.640</td>\n",
       "      <td>5.482703</td>\n",
       "      <td>7.779976</td>\n",
       "      <td>6.631340</td>\n",
       "    </tr>\n",
       "    <tr>\n",
       "      <th>1270553</th>\n",
       "      <td>2154317</td>\n",
       "      <td>20.142</td>\n",
       "      <td>16.401900</td>\n",
       "      <td>24.264638</td>\n",
       "      <td>20.333269</td>\n",
       "    </tr>\n",
       "  </tbody>\n",
       "</table>\n",
       "</div>"
      ],
      "text/plain": [
       "           RowID    y_true  y_pred_meter  y_pred_sites  y_pred_average\n",
       "167953    284803     9.960      8.766757      7.628923        8.197840\n",
       "1123488  1905000  1216.390    569.149101    461.087515      515.118308\n",
       "629889   1068402   247.000    179.060372    173.891121      176.475746\n",
       "44429      75318    13.640      5.482703      7.779976        6.631340\n",
       "1270553  2154317    20.142     16.401900     24.264638       20.333269"
      ]
     },
     "execution_count": 20,
     "metadata": {},
     "output_type": "execute_result"
    }
   ],
   "source": [
    "test_meter = pd.read_csv(\"pred_results/preds_meter_test.csv\")\n",
    "test_site = pd.read_csv(\"pred_results/preds_site_test.csv\")\n",
    "\n",
    "# Merge the two dfs \n",
    "y_preds = pd.merge(test_meter, test_site, on=[\"RowID\", \"y_true\"])\n",
    "\n",
    "# Clip prediction values so that the lower value is 0\n",
    "y_preds[\"y_pred_sites\"] = np.clip(y_preds.y_pred_sites, a_min=0, a_max=np.max(y_preds.y_pred_sites))\n",
    "y_preds[\"y_pred_meter\"] = np.clip(y_preds.y_pred_meter, a_min=0, a_max=np.max(y_preds.y_pred_meter))\n",
    "\n",
    "# add the average model prediction\n",
    "y_pred_average = y_preds[[\"y_pred_sites\", \"y_pred_meter\"]].apply(np.mean, axis=1)\n",
    "y_preds[\"y_pred_average\"] = y_pred_average\n",
    "y_preds.sample(5)"
   ]
  },
  {
   "cell_type": "code",
   "execution_count": 21,
   "metadata": {},
   "outputs": [
    {
     "name": "stdout",
     "output_type": "stream",
     "text": [
      "RMSE:  4485.6728\n",
      "RMSLE: 1.13\n",
      "MAE:   311.352\n"
     ]
    }
   ],
   "source": [
    "show_me_errors(y_preds.y_true, y_preds.y_pred_average)"
   ]
  },
  {
   "cell_type": "markdown",
   "metadata": {},
   "source": [
    "### Test (holdout)  "
   ]
  },
  {
   "cell_type": "code",
   "execution_count": null,
   "metadata": {},
   "outputs": [],
   "source": []
  },
  {
   "cell_type": "markdown",
   "metadata": {},
   "source": [
    "## Different Models"
   ]
  },
  {
   "cell_type": "code",
   "execution_count": 22,
   "metadata": {},
   "outputs": [
    {
     "data": {
      "text/html": [
       "<div>\n",
       "<style scoped>\n",
       "    .dataframe tbody tr th:only-of-type {\n",
       "        vertical-align: middle;\n",
       "    }\n",
       "\n",
       "    .dataframe tbody tr th {\n",
       "        vertical-align: top;\n",
       "    }\n",
       "\n",
       "    .dataframe thead th {\n",
       "        text-align: right;\n",
       "    }\n",
       "</style>\n",
       "<table border=\"1\" class=\"dataframe\">\n",
       "  <thead>\n",
       "    <tr style=\"text-align: right;\">\n",
       "      <th></th>\n",
       "      <th>RowID</th>\n",
       "      <th>y_true</th>\n",
       "      <th>y_pred_baseline</th>\n",
       "      <th>y_pred_sites</th>\n",
       "      <th>y_pred_meter</th>\n",
       "      <th>y_pred_average</th>\n",
       "    </tr>\n",
       "  </thead>\n",
       "  <tbody>\n",
       "    <tr>\n",
       "      <th>1622327</th>\n",
       "      <td>1622327</td>\n",
       "      <td>116.970</td>\n",
       "      <td>468.2848</td>\n",
       "      <td>190.712234</td>\n",
       "      <td>181.927439</td>\n",
       "      <td>186.319836</td>\n",
       "    </tr>\n",
       "    <tr>\n",
       "      <th>1146578</th>\n",
       "      <td>1146578</td>\n",
       "      <td>30.670</td>\n",
       "      <td>468.2848</td>\n",
       "      <td>24.537648</td>\n",
       "      <td>18.064901</td>\n",
       "      <td>21.301274</td>\n",
       "    </tr>\n",
       "    <tr>\n",
       "      <th>1933730</th>\n",
       "      <td>1933730</td>\n",
       "      <td>0.000</td>\n",
       "      <td>468.2848</td>\n",
       "      <td>10.079644</td>\n",
       "      <td>29.107347</td>\n",
       "      <td>19.593496</td>\n",
       "    </tr>\n",
       "    <tr>\n",
       "      <th>1618315</th>\n",
       "      <td>1618315</td>\n",
       "      <td>389.808</td>\n",
       "      <td>468.2848</td>\n",
       "      <td>212.793430</td>\n",
       "      <td>161.312495</td>\n",
       "      <td>187.052962</td>\n",
       "    </tr>\n",
       "    <tr>\n",
       "      <th>2406164</th>\n",
       "      <td>2406164</td>\n",
       "      <td>5938.110</td>\n",
       "      <td>468.2848</td>\n",
       "      <td>2349.170036</td>\n",
       "      <td>1227.020929</td>\n",
       "      <td>1788.095482</td>\n",
       "    </tr>\n",
       "  </tbody>\n",
       "</table>\n",
       "</div>"
      ],
      "text/plain": [
       "           RowID    y_true  y_pred_baseline  y_pred_sites  y_pred_meter  \\\n",
       "1622327  1622327   116.970         468.2848    190.712234    181.927439   \n",
       "1146578  1146578    30.670         468.2848     24.537648     18.064901   \n",
       "1933730  1933730     0.000         468.2848     10.079644     29.107347   \n",
       "1618315  1618315   389.808         468.2848    212.793430    161.312495   \n",
       "2406164  2406164  5938.110         468.2848   2349.170036   1227.020929   \n",
       "\n",
       "         y_pred_average  \n",
       "1622327      186.319836  \n",
       "1146578       21.301274  \n",
       "1933730       19.593496  \n",
       "1618315      187.052962  \n",
       "2406164     1788.095482  "
      ]
     },
     "execution_count": 22,
     "metadata": {},
     "output_type": "execute_result"
    }
   ],
   "source": [
    "preds = pd.read_csv(\"pred_results/all_preds.csv\")\n",
    "preds.sample(5)"
   ]
  },
  {
   "cell_type": "code",
   "execution_count": 23,
   "metadata": {},
   "outputs": [],
   "source": [
    "pred_site = preds.y_pred_sites\n",
    "pred_meter = preds.y_pred_meter\n",
    "pred_combined = preds.y_pred_average\n",
    "pred_baseline = preds.y_pred_baseline\n",
    "\n",
    "true = preds.y_true"
   ]
  },
  {
   "cell_type": "markdown",
   "metadata": {},
   "source": [
    "### Baseline "
   ]
  },
  {
   "cell_type": "code",
   "execution_count": 34,
   "metadata": {},
   "outputs": [
    {
     "name": "stdout",
     "output_type": "stream",
     "text": [
      "RMSE:  4145.9845\n",
      "RMSLE: 2.8482\n",
      "MAE:   615.5186\n"
     ]
    }
   ],
   "source": [
    "show_me_errors(y_true=true, y_preds=pred_baseline)"
   ]
  },
  {
   "cell_type": "markdown",
   "metadata": {},
   "source": [
    "### Site "
   ]
  },
  {
   "cell_type": "code",
   "execution_count": 35,
   "metadata": {},
   "outputs": [
    {
     "name": "stdout",
     "output_type": "stream",
     "text": [
      "RMSE:  4049.4\n",
      "RMSLE: 1.1344\n",
      "MAE:   303.5662\n"
     ]
    }
   ],
   "source": [
    "show_me_errors(y_true=true , y_preds=pred_site)"
   ]
  },
  {
   "cell_type": "markdown",
   "metadata": {},
   "source": [
    "### Meter "
   ]
  },
  {
   "cell_type": "code",
   "execution_count": 36,
   "metadata": {},
   "outputs": [
    {
     "name": "stdout",
     "output_type": "stream",
     "text": [
      "RMSE:  4060.5841\n",
      "RMSLE: 1.1875\n",
      "MAE:   319.4877\n"
     ]
    }
   ],
   "source": [
    "show_me_errors(y_true=true , y_preds=pred_meter)"
   ]
  },
  {
   "cell_type": "markdown",
   "metadata": {},
   "source": [
    "### Combined "
   ]
  },
  {
   "cell_type": "code",
   "execution_count": 37,
   "metadata": {},
   "outputs": [
    {
     "name": "stdout",
     "output_type": "stream",
     "text": [
      "RMSE:  4053.6748\n",
      "RMSLE: 1.1313\n",
      "MAE:   305.8833\n"
     ]
    }
   ],
   "source": [
    "show_me_errors(y_true=true , y_preds=pred_combined)"
   ]
  }
 ],
 "metadata": {
  "kernelspec": {
   "display_name": "Python 3",
   "language": "python",
   "name": "python3"
  },
  "language_info": {
   "codemirror_mode": {
    "name": "ipython",
    "version": 3
   },
   "file_extension": ".py",
   "mimetype": "text/x-python",
   "name": "python",
   "nbconvert_exporter": "python",
   "pygments_lexer": "ipython3",
   "version": "3.7.6"
  },
  "toc-autonumbering": true,
  "toc-showcode": false,
  "toc-showmarkdowntxt": false
 },
 "nbformat": 4,
 "nbformat_minor": 4
}
