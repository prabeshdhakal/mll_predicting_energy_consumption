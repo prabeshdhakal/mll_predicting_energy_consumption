{
 "cells": [
  {
   "cell_type": "code",
   "execution_count": 1,
   "metadata": {},
   "outputs": [],
   "source": [
    "import pandas as pd\n",
    "import numpy as np\n",
    "import os\n",
    "import warnings\n",
    "import gc"
   ]
  },
  {
   "cell_type": "code",
   "execution_count": 5,
   "metadata": {},
   "outputs": [],
   "source": [
    "preprocessed_data_path = \"data/preprocessed/\"\n",
    "\n",
    "train = pd.read_csv(preprocessed_data_path + \"train.csv\")\n",
    "test = pd.read_csv(preprocessed_data_path + \"test.csv\")\n",
    "holdout = pd.read_csv(preprocessed_data_path + \"holdout.csv\")"
   ]
  },
  {
   "cell_type": "code",
   "execution_count": 11,
   "metadata": {},
   "outputs": [
    {
     "data": {
      "text/plain": [
       "{0}"
      ]
     },
     "execution_count": 11,
     "metadata": {},
     "output_type": "execute_result"
    }
   ],
   "source": [
    "test[test.site_id == 0]"
   ]
  },
  {
   "cell_type": "code",
   "execution_count": 14,
   "metadata": {},
   "outputs": [],
   "source": [
    "for i in range(len(np.unique(train.site_id))):\n",
    "    \n",
    "    site_train = \"/data/site_id/train/train_site_id_{}.csv\".format(i)\n",
    "    site_test = \"/data/site_id/test/test_site_id_{}.csv\".format(i)\n",
    "    site_holdout = \"/data/site_id/holdout/holdout_site_id_{}.csv\".format(i)\n",
    "\n",
    "    train_ = train[train.site_id == i]\n",
    "    test_ = test[test.site_id == i]\n",
    "    holdout_ = holdout[holdout.site_id == i]\n",
    "    \n",
    "    train_.to_csv(site_train)\n",
    "    test_.to_csv(site_test)\n",
    "    holdout_.to_csv(site_holdout)"
   ]
  },
  {
   "cell_type": "code",
   "execution_count": 15,
   "metadata": {},
   "outputs": [],
   "source": [
    "for i in range(len(np.unique(train.meter))):\n",
    "    \n",
    "    meter_train = \"/data/meter_type/train/train_meter_{}.csv\".format(i)\n",
    "    meter_test = \"/data/meter_type/test/test_meter_{}.csv\".format(i)\n",
    "    meter_holdout = \"/data/meter_type/holdout/holdout_meter_{}.csv\".format(i)\n",
    "\n",
    "    train_ = train[train.meter == i]\n",
    "    test_ = test[test.meter == i]\n",
    "    holdout_ = holdout[holdout.meter == i]\n",
    "    \n",
    "    train_.to_csv(meter_train)\n",
    "    test_.to_csv(meter_test)\n",
    "    holdout_.to_csv(meter_holdout)"
   ]
  }
 ],
 "metadata": {
  "kernelspec": {
   "display_name": "Python 3",
   "language": "python",
   "name": "python3"
  },
  "language_info": {
   "codemirror_mode": {
    "name": "ipython",
    "version": 3
   },
   "file_extension": ".py",
   "mimetype": "text/x-python",
   "name": "python",
   "nbconvert_exporter": "python",
   "pygments_lexer": "ipython3",
   "version": "3.7.6"
  },
  "toc-autonumbering": true,
  "toc-showcode": true,
  "toc-showmarkdowntxt": false
 },
 "nbformat": 4,
 "nbformat_minor": 4
}
